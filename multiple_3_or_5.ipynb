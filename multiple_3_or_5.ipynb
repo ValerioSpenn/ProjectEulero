{
 "cells": [
  {
   "cell_type": "markdown",
   "metadata": {},
   "source": [
    "https://projecteuler.net/problem=1\n",
    "Multiples of 3 or 5\n",
    "If we list all the natural numbers below $10$ that are multiples of $3$ or $5$, we get $3, 5, 6$ and $9$. The sum of these multiples is $23$.\n",
    "Find the sum of all the multiples of $3$ or $5$ below 1000."
   ]
  },
  {
   "cell_type": "code",
   "execution_count": 5,
   "metadata": {},
   "outputs": [
    {
     "data": {
      "text/plain": [
       "233168"
      ]
     },
     "execution_count": 5,
     "metadata": {},
     "output_type": "execute_result"
    }
   ],
   "source": [
    "max_number = 1000\n",
    "\n",
    "def find_sum_multiples_3_5(max_number):\n",
    "    sum = 0\n",
    "    for i in range(0,max_number):\n",
    "        if (i%3 == 0) or (i%5 == 0):\n",
    "            sum += i    \n",
    "    return sum\n",
    "\n",
    "sum = find_sum_multiples_3_5(max_number)\n",
    "sum"
   ]
  },
  {
   "cell_type": "code",
   "execution_count": 8,
   "metadata": {},
   "outputs": [
    {
     "data": {
      "text/plain": [
       "23"
      ]
     },
     "execution_count": 8,
     "metadata": {},
     "output_type": "execute_result"
    }
   ],
   "source": [
    "max_number = 10\n",
    "list_number = [3,5]\n",
    "def find_sum_multiples_from_lists(max_number,list_number):\n",
    "    sum = 0\n",
    "    for i in range(0,max_number):\n",
    "        for j in range(list_number):\n",
    "            if (i%j == 0):\n",
    "                sum += i    \n",
    "    return sum\n",
    "\n",
    "sum = find_sum_multiples_3_5(max_number)\n",
    "sum"
   ]
  }
 ],
 "metadata": {
  "kernelspec": {
   "display_name": "venv_project_eulero",
   "language": "python",
   "name": "python3"
  },
  "language_info": {
   "codemirror_mode": {
    "name": "ipython",
    "version": 3
   },
   "file_extension": ".py",
   "mimetype": "text/x-python",
   "name": "python",
   "nbconvert_exporter": "python",
   "pygments_lexer": "ipython3",
   "version": "3.11.4"
  },
  "orig_nbformat": 4
 },
 "nbformat": 4,
 "nbformat_minor": 2
}
