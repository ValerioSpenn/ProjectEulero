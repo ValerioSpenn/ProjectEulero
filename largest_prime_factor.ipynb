{
 "cells": [
  {
   "cell_type": "markdown",
   "metadata": {},
   "source": [
    "https://projecteuler.net/minimal=3\n",
    "<p>The prime factors of $13195$ are $5, 7, 13$ and $29$.</p>\n",
    "<p>What is the largest prime factor of the number $600851475143$?</p>"
   ]
  },
  {
   "cell_type": "code",
   "execution_count": 44,
   "metadata": {},
   "outputs": [
    {
     "data": {
      "text/plain": [
       "29"
      ]
     },
     "execution_count": 44,
     "metadata": {},
     "output_type": "execute_result"
    }
   ],
   "source": [
    "input_number = 13195\n",
    "def find_largest_prime_factor(input_number):\n",
    "    prime_factors = [1]\n",
    "    is_prime = False\n",
    "    for i in range(2, input_number):\n",
    "        if input_number % i == 0:\n",
    "            for j in range(2, int(i ** 0.5) + 1):\n",
    "                is_prime = True\n",
    "                if i%j == 0:\n",
    "                    is_prime = False\n",
    "                    break\n",
    "            if is_prime:\n",
    "                prime_factors.append(i)\n",
    "        else:\n",
    "            continue\n",
    "    if prime_factors:\n",
    "        largest_prime = max(prime_factors)\n",
    "        return largest_prime\n",
    "    else:\n",
    "        return None\n",
    "\n",
    "\n",
    "largest_factor = find_largest_prime_factor(input_number)\n",
    "largest_factor"
   ]
  },
  {
   "cell_type": "code",
   "execution_count": 46,
   "metadata": {},
   "outputs": [
    {
     "name": "stdout",
     "output_type": "stream",
     "text": [
      "6857\n"
     ]
    }
   ],
   "source": [
    "input_number = 600851475143\n",
    "\n",
    "def largest_prime_factor(n):\n",
    "    i = 2\n",
    "    while i * i <= n:\n",
    "        if n % i == 0:\n",
    "            n //= i  # n = n // i\n",
    "        else:\n",
    "            i += 1\n",
    "    return n\n",
    "\n",
    "largest_factor = largest_prime_factor(input_number)\n",
    "print(largest_factor)\n"
   ]
  },
  {
   "cell_type": "code",
   "execution_count": 47,
   "metadata": {},
   "outputs": [
    {
     "name": "stdout",
     "output_type": "stream",
     "text": [
      "6857\n"
     ]
    }
   ],
   "source": [
    "n = 600851475143\n",
    "def lpf(n, i = 2):\n",
    "    if n == 1:\n",
    "        return i\n",
    "    while n % i != 0:\n",
    "        i += 1\n",
    "    return lpf(n / i, i)\n",
    "print(lpf(n))"
   ]
  }
 ],
 "metadata": {
  "kernelspec": {
   "display_name": "venv_project_eulero",
   "language": "python",
   "name": "python3"
  },
  "language_info": {
   "codemirror_mode": {
    "name": "ipython",
    "version": 3
   },
   "file_extension": ".py",
   "mimetype": "text/x-python",
   "name": "python",
   "nbconvert_exporter": "python",
   "pygments_lexer": "ipython3",
   "version": "3.11.4"
  },
  "orig_nbformat": 4
 },
 "nbformat": 4,
 "nbformat_minor": 2
}
